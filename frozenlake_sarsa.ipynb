{
 "cells": [
  {
   "cell_type": "markdown",
   "metadata": {},
   "source": [
    "# SARSA Frozen Lake\n",
    "Implementation of a SARSA agent to learn policies in the Frozen Lake environment from OpenAI gym."
   ]
  },
  {
   "cell_type": "code",
   "execution_count": 1,
   "metadata": {},
   "outputs": [],
   "source": [
    "# define path\n",
    "RESULT_IMG_PATH = 'img/result_img_{}.png'"
   ]
  },
  {
   "cell_type": "code",
   "execution_count": 2,
   "metadata": {},
   "outputs": [
    {
     "name": "stderr",
     "output_type": "stream",
     "text": [
      "\n"
     ]
    }
   ],
   "source": [
    "# import dependency\n",
    "import gym # OpenAI Game Environment\n",
    "import gym.envs.toy_text # Customized Map\n",
    "import numpy as np\n",
    "from tqdm import trange # Processing Bar\n",
    "import matplotlib.pyplot as plt\n",
    "%matplotlib inline"
   ]
  },
  {
   "cell_type": "markdown",
   "metadata": {},
   "source": [
    "## Problem - Frozen Lake"
   ]
  },
  {
   "cell_type": "markdown",
   "metadata": {},
   "source": [
    "[Frozen Lake](https://gym.openai.com/envs/FrozenLake-v0/) This setting involves an environment where an agent maneuvers a character within a grid-based world. Beginning at the starting point *S*, the agent's objective is to navigate the character to the designated goal state *G* to receive a reward of 1. However, the agent faces a challenge as it encounters the slippery frozen state *F*, reducing its success rate to $\\frac{1}{3}$ for each action. The agent's movements are distributed evenly among the four possible actions (*left*, *down*, *right*, *up*) for the remaining $\\frac{2}{3}$ of the time. Moreover, entering a hole state *H* results in an undesirable outcome with a reward of 0.\n",
    "\n",
    "Symbols:\n",
    "+ S: Start State\n",
    "+ G: Goal State\n",
    "+ F: Frozen Surface\n",
    "+ H: Hole State"
   ]
  },
  {
   "cell_type": "code",
   "execution_count": 7,
   "metadata": {},
   "outputs": [
    {
     "name": "stdout",
     "output_type": "stream",
     "text": [
      "9 states\n",
      "4 actions\n"
     ]
    }
   ],
   "source": [
    "# initialization\n",
    "amap='SFFFHFFFG'\n",
    "grid_shape = int(np.sqrt(len(amap)))  # Use int function to convert to integer\n",
    "custom_map = np.array(list(amap)).reshape(grid_shape, grid_shape)\n",
    "env = gym.envs.toy_text.frozen_lake.FrozenLakeEnv(desc=custom_map).unwrapped\n",
    "# env = gym.make('FrozenLake-v0')\n",
    "n_states, n_actions = env.observation_space.n, env.action_space.n\n",
    "print('{} states'.format(n_states))\n",
    "print('{} actions'.format(n_actions))\n",
    "#env.render() \n"
   ]
  },
  {
   "cell_type": "code",
   "execution_count": 9,
   "metadata": {},
   "outputs": [],
   "source": [
    "# take a look\n",
    "done = False\n",
    "env.reset()\n",
    "while not done:\n",
    "    # randomly pick an action\n",
    "    action = np.random.randint(n_actions)\n",
    "    # get feedback from the environment\n",
    "    obvervation, reward, done, info = env.step(action)\n",
    "    # show the environment\n",
    "    env.render()"
   ]
  },
  {
   "cell_type": "markdown",
   "metadata": {},
   "source": [
    "## State Action Reward State Action (SARSA)"
   ]
  },
  {
   "cell_type": "markdown",
   "metadata": {},
   "source": [
    "The State-Action-Reward-State-Action (SARSA) method is a renowned approach in reinforcement learning for solving Markov Decision Processes (MDPs). As its name suggests, SARSA updates the Q-value, denoted by $Q(s_{t}, a_{t})$, based on the current state $s_{t}$, the chosen action $a_{t}$, the resulting reward $r_{t}$, the subsequent state $s_{t+1}$ after executing the action, and the action $a_{t+1}$ selected for the new state. \n",
    "\n",
    "The update equation for the Q-value table is given by:\n",
    "\n",
    "$$Q(s_{t}, a_{t}) \\leftarrow Q(s_{t}, a_{t}) + \\alpha[r_{t} + \\gamma Q(s_{t+1}, a_{t+1}) - Q(s_{t}, a_{t})]$$\n",
    "\n",
    "Here, $\\alpha$ denotes the learning rate and $\\gamma$ represents the discount factor. It's evident from this definition that SARSA operates by iteratively refining the policy through interactions with the environment, making it part of the on-policy learning algorithm category."
   ]
  },
  {
   "cell_type": "markdown",
   "metadata": {},
   "source": [
    "### Training"
   ]
  },
  {
   "cell_type": "code",
   "execution_count": 32,
   "metadata": {},
   "outputs": [],
   "source": [
    "# initialize the agent’s Q-table to zeros\n",
    "def init_q(s, a):\n",
    "    \"\"\"\n",
    "    s: number of states\n",
    "    a: number of actions\n",
    "    \"\"\"\n",
    "    return np.zeros((s, a))\n",
    "\n",
    "# epsilon-greedy exploration strategy\n",
    "def epsilon_greedy(Q, epsilon, n_actions, s):\n",
    "    \"\"\"\n",
    "    Q: Q Table\n",
    "    epsilon: exploration parameter\n",
    "    n_actions: number of actions\n",
    "    s: state\n",
    "    \"\"\"\n",
    "    # selects a random action with probability epsilon\n",
    "    if np.random.random() <= epsilon:\n",
    "        return np.random.randint(n_actions)\n",
    "    else:\n",
    "        return np.argmax(Q[s, :])\n",
    "    \n",
    "# SARSA Process\n",
    "def sarsa(alpha, gamma, epsilon, n_episodes):\n",
    "    \"\"\"\n",
    "    alpha: learning rate\n",
    "    gamma: exploration parameter\n",
    "    n_episodes: number of episodes\n",
    "    \"\"\"\n",
    "    # initialize Q table\n",
    "    Q = init_q(n_states, n_actions)\n",
    "    t = trange(n_episodes)\n",
    "    reward_array = np.zeros(n_episodes)\n",
    "    for i in t:\n",
    "        # initial state\n",
    "        s = env.reset()\n",
    "        # initial action\n",
    "        a = epsilon_greedy(Q, epsilon, n_actions, s)\n",
    "        done = False\n",
    "        while not done:\n",
    "            s_, reward, done, _ = env.step(a)\n",
    "            a_ = epsilon_greedy(Q, epsilon, n_actions, s_)\n",
    "            # update Q table\n",
    "            Q[s, a] += alpha * (reward + (gamma * Q[s_, a_]) - Q[s, a])\n",
    "            if done:\n",
    "                t.set_description('Episode {} Reward {}'.format(i + 1, reward))\n",
    "                t.refresh()\n",
    "                reward_array[i] = reward\n",
    "                break\n",
    "            s, a = s_, a_\n",
    "    env.close()\n",
    "    return Q, reward_array"
   ]
  },
  {
   "cell_type": "code",
   "execution_count": 39,
   "metadata": {},
   "outputs": [],
   "source": [
    "# experiment settings\n",
    "alpha = 0.1 # learning rate\n",
    "gamma = 0.9 # discount factor\n",
    "epsilon=0.5 # exploration parameter\n",
    "n_episodes = 1000 # number of training episodes"
   ]
  },
  {
   "cell_type": "code",
   "execution_count": 40,
   "metadata": {},
   "outputs": [
    {
     "name": "stderr",
     "output_type": "stream",
     "text": [
      "Episode 1000 Reward 0.0: 100%|██████████| 1000/1000 [00:04<00:00, 220.63it/s]\n"
     ]
    }
   ],
   "source": [
    "# training\n",
    "Q, reward_array = sarsa(alpha, gamma, epsilon, n_episodes)"
   ]
  },
  {
   "cell_type": "code",
   "execution_count": 41,
   "metadata": {},
   "outputs": [
    {
     "data": {
      "text/plain": [
       "array([[0.11132825, 0.12229354, 0.11785264, 0.11118883],\n",
       "       [0.08042749, 0.14024655, 0.13474026, 0.16478976],\n",
       "       [0.28550722, 0.26150698, 0.25293918, 0.23521373],\n",
       "       [0.13035875, 0.12688529, 0.12116299, 0.07614327],\n",
       "       [0.        , 0.        , 0.        , 0.        ],\n",
       "       [0.49949557, 0.2939676 , 0.51924078, 0.31975318],\n",
       "       [0.23218791, 0.36976288, 0.25418872, 0.31231136],\n",
       "       [0.18482756, 0.43804349, 0.44799121, 0.55700009],\n",
       "       [0.        , 0.        , 0.        , 0.        ]])"
      ]
     },
     "execution_count": 41,
     "metadata": {},
     "output_type": "execute_result"
    }
   ],
   "source": [
    "# show Q table\n",
    "Q"
   ]
  },
  {
   "cell_type": "code",
   "execution_count": 42,
   "metadata": {},
   "outputs": [
    {
     "name": "stdout",
     "output_type": "stream",
     "text": [
      "Averaged reward per episode 0.335\n"
     ]
    }
   ],
   "source": [
    "# averaged reward per episode\n",
    "avg_reward = round(np.mean(reward_array), 4)\n",
    "print('Averaged reward per episode {}'.format(avg_reward))"
   ]
  },
  {
   "cell_type": "markdown",
   "metadata": {},
   "source": [
    "### Testing"
   ]
  },
  {
   "cell_type": "code",
   "execution_count": 43,
   "metadata": {},
   "outputs": [],
   "source": [
    "def eva(Q, n_episodes):\n",
    "    \"\"\"\n",
    "    Q: trained Q table\n",
    "    n_episodes: number of episodes\n",
    "    \"\"\"\n",
    "    t = trange(n_episodes)\n",
    "    reward_array = np.zeros(n_episodes)\n",
    "    for i in t:\n",
    "        # initial state\n",
    "        s = env.reset()\n",
    "        # initial action\n",
    "        a = np.argmax(Q[s])\n",
    "        done = False\n",
    "        while not done:\n",
    "            s_, reward, done, _ = env.step(a)\n",
    "            # pick an action according the state and trained Q table\n",
    "            a_ = np.argmax(Q[s_])\n",
    "            if done:\n",
    "                t.set_description('Episode {} Reward {}'.format(i + 1, reward))\n",
    "                t.refresh()\n",
    "                reward_array[i] = reward\n",
    "                break\n",
    "            s, a = s_, a_\n",
    "    env.close()\n",
    "    return reward_array"
   ]
  },
  {
   "cell_type": "code",
   "execution_count": 44,
   "metadata": {},
   "outputs": [
    {
     "name": "stderr",
     "output_type": "stream",
     "text": [
      "Episode 100 Reward 1.0: 100%|██████████| 100/100 [00:00<00:00, 240.19it/s]\n"
     ]
    }
   ],
   "source": [
    "# experiment settings\n",
    "n_episodes = 100 # number of testing episodes\n",
    "reward_array = eva(Q, n_episodes)"
   ]
  },
  {
   "cell_type": "code",
   "execution_count": 45,
   "metadata": {},
   "outputs": [
    {
     "name": "stdout",
     "output_type": "stream",
     "text": [
      "Averaged reward per episode 0.58\n"
     ]
    }
   ],
   "source": [
    "# averaged reward per episode\n",
    "avg_reward = round(np.mean(reward_array), 4)\n",
    "print('Averaged reward per episode {}'.format(avg_reward))"
   ]
  },
  {
   "cell_type": "code",
   "execution_count": 46,
   "metadata": {},
   "outputs": [
    {
     "data": {
      "text/plain": [
       "<Figure size 640x480 with 0 Axes>"
      ]
     },
     "metadata": {},
     "output_type": "display_data"
    }
   ],
   "source": [
    "import os\n",
    "img_dir = 'img'\n",
    "\n",
    "# Check if the directory exists, if not, create it\n",
    "if not os.path.exists(img_dir):\n",
    "    os.makedirs(img_dir)\n",
    "\n",
    "# Save the image\n",
    "plt.savefig(os.path.join(img_dir, 'result_img_1.png'), dpi=100, bbox_inches='tight')"
   ]
  },
  {
   "cell_type": "code",
   "execution_count": 47,
   "metadata": {},
   "outputs": [
    {
     "data": {
      "image/png": "[encoded data removed]",
      "text/plain": [
       "<Figure size 600x600 with 1 Axes>"
      ]
     },
     "metadata": {},
     "output_type": "display_data"
    }
   ],
   "source": [
    "# show reward per episode\n",
    "plt.subplots(figsize = (6, 6), dpi=100)\n",
    "plt.plot(reward_array, color='black', linewidth=0.5)\n",
    "plt.ylabel('Reward', fontsize=12)\n",
    "plt.xlabel('Episode', fontsize=12)\n",
    "plt.xticks(fontsize=12)\n",
    "plt.yticks(fontsize=12)\n",
    "plt.title('SARSA Agent\\nReward Per Episode for {} Episodes - Average: {:.2f}'.format(n_episodes, avg_reward), \n",
    "          fontsize=12)\n",
    "plt.savefig(RESULT_IMG_PATH.format(1), dpi=100, bbox_inches='tight')\n",
    "plt.show()"
   ]
  },
  {
   "cell_type": "code",
   "execution_count": 48,
   "metadata": {},
   "outputs": [],
   "source": [
    "# trained SARSA agent in Frozen Lake\n",
    "done = False\n",
    "s = env.reset()\n",
    "env.render()\n",
    "while not done:\n",
    "    # pick an action\n",
    "    a = np.argmax(Q[s])\n",
    "    # get feedback from the environment\n",
    "    s_, _, done, _ = env.step(a)\n",
    "    # show the environment\n",
    "    env.render()\n",
    "    s = s_"
   ]
  },
  {
   "cell_type": "code",
   "execution_count": null,
   "metadata": {},
   "outputs": [],
   "source": []
  }
 ],
 "metadata": {
  "kernelspec": {
   "display_name": "Python 3",
   "language": "python",
   "name": "python3"
  },
  "language_info": {
   "codemirror_mode": {
    "name": "ipython",
    "version": 3
   },
   "file_extension": ".py",
   "mimetype": "text/x-python",
   "name": "python",
   "nbconvert_exporter": "python",
   "pygments_lexer": "ipython3",
   "version": "3.11.5"
  }
 },
 "nbformat": 4,
 "nbformat_minor": 2
}
